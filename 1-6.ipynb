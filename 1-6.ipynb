{
 "cells": [
  {
   "cell_type": "code",
   "execution_count": 2,
   "id": "e84503f1",
   "metadata": {},
   "outputs": [
    {
     "name": "stdout",
     "output_type": "stream",
     "text": [
      "QUESTION # 1 \n",
      "\n",
      "Twinkle,twinkle,little star,\n",
      "        How i wonder what you are\n",
      "               Up above the world so high,\n",
      "               like a diamond in the sky.\n",
      "Twinkle,twinkle,little star,\n",
      "        How i wonder what you are\n"
     ]
    }
   ],
   "source": [
    "print(\"QUESTION # 1 \\n\")\n",
    "print(\"Twinkle,twinkle,little star,\")\n",
    "print(\"        \" + \"How i wonder what you are\")\n",
    "print(\"               \" + \"Up above the world so high,\")\n",
    "print(\"               \" + \"like a diamond in the sky.\")\n",
    "print(\"Twinkle,twinkle,little star,\")\n",
    "print(\"        \" + \"How i wonder what you are\")"
   ]
  },
  {
   "cell_type": "code",
   "execution_count": 3,
   "id": "4190529f",
   "metadata": {},
   "outputs": [
    {
     "name": "stdout",
     "output_type": "stream",
     "text": [
      "\n",
      "Question # 2 \n",
      "\n",
      "3.9.7\n"
     ]
    }
   ],
   "source": [
    "print(\"\\nQuestion # 2 \\n\")\n",
    "\n",
    "import platform\n",
    "print(platform.python_version())"
   ]
  },
  {
   "cell_type": "code",
   "execution_count": 9,
   "id": "e17fd8db",
   "metadata": {},
   "outputs": [
    {
     "name": "stdout",
     "output_type": "stream",
     "text": [
      "\n",
      "Question # 3 \n",
      "\n",
      "Current date & time:01-01-2022 17:43:38\n"
     ]
    }
   ],
   "source": [
    "print(\"\\nQuestion # 3 \\n\")\n",
    "import datetime\n",
    "currentdtime = datetime.datetime.now()\n",
    "print(\"Current date & time:\" + currentdtime.strftime(\"%d-%m-%Y %H:%M:%S\"))"
   ]
  },
  {
   "cell_type": "code",
   "execution_count": 12,
   "id": "812be37c",
   "metadata": {},
   "outputs": [
    {
     "name": "stdout",
     "output_type": "stream",
     "text": [
      "\n",
      "Question # 4 \n",
      "\n",
      "Input the value of Radius of the Circle:12\n",
      "Area of the Circle is 452.15999999999997\n"
     ]
    }
   ],
   "source": [
    "print(\"\\nQuestion # 4 \\n\")\n",
    "\n",
    "pivalue = 3.14\n",
    "r = float(input(\"Input the value of Radius of the Circle: \"))\n",
    "area = pivalue * r * r\n",
    "print(\"Area of the Circle is \" + str(area));\n"
   ]
  },
  {
   "cell_type": "code",
   "execution_count": 13,
   "id": "ee0a3246",
   "metadata": {},
   "outputs": [
    {
     "name": "stdout",
     "output_type": "stream",
     "text": [
      "\n",
      "Question # 5 \n",
      "\n",
      "Input your First Name: Haq\n",
      "Input your Last Name: Khokhar\n",
      "Khokhar Haq\n"
     ]
    }
   ],
   "source": [
    "print(\"\\nQuestion # 5 \\n\")\n",
    "firstname = input(\"Input your First Name: \")\n",
    "lastname= input(\"Input your Last Name: \");\n",
    "print(lastname + \" \" + firstname)"
   ]
  },
  {
   "cell_type": "code",
   "execution_count": 14,
   "id": "f1480716",
   "metadata": {},
   "outputs": [
    {
     "name": "stdout",
     "output_type": "stream",
     "text": [
      "\n",
      "Question # 6 \n",
      "\n",
      "Input the first value:5\n",
      "Input the second value:6\n",
      "Result is 11\n"
     ]
    }
   ],
   "source": [
    "print(\"\\nQuestion # 6 \\n\")\n",
    "a = input(\"Input the first value:\")\n",
    "b = input(\"Input the second value:\")\n",
    "a = int(a)\n",
    "b = int(b)\n",
    "c = a + b\n",
    "print(\"Result is \" + str(c))"
   ]
  },
  {
   "cell_type": "code",
   "execution_count": null,
   "id": "1b5c429f",
   "metadata": {},
   "outputs": [],
   "source": []
  }
 ],
 "metadata": {
  "kernelspec": {
   "display_name": "Python 3 (ipykernel)",
   "language": "python",
   "name": "python3"
  },
  "language_info": {
   "codemirror_mode": {
    "name": "ipython",
    "version": 3
   },
   "file_extension": ".py",
   "mimetype": "text/x-python",
   "name": "python",
   "nbconvert_exporter": "python",
   "pygments_lexer": "ipython3",
   "version": "3.9.7"
  }
 },
 "nbformat": 4,
 "nbformat_minor": 5
}
